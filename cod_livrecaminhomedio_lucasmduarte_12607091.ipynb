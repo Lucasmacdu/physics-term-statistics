{
 "cells": [
  {
   "cell_type": "code",
   "execution_count": 3,
   "id": "6cf37be1",
   "metadata": {},
   "outputs": [
    {
     "ename": "ModuleNotFoundError",
     "evalue": "No module named 'numpy'",
     "output_type": "error",
     "traceback": [
      "\u001b[1;31m---------------------------------------------------------------------------\u001b[0m",
      "\u001b[1;31mModuleNotFoundError\u001b[0m                       Traceback (most recent call last)",
      "\u001b[1;32md:\\Documentos\\Lucas\\USP\\4º Semestre\\Termo Estatística\\Python\\cod_livrecaminhomedio_lucasmduarte_12607091.ipynb Célula 1\u001b[0m line \u001b[0;36m1\n\u001b[1;32m----> <a href='vscode-notebook-cell:/d%3A/Documentos/Lucas/USP/4%C2%BA%20Semestre/Termo%20Estat%C3%ADstica/Python/cod_livrecaminhomedio_lucasmduarte_12607091.ipynb#W0sZmlsZQ%3D%3D?line=0'>1</a>\u001b[0m \u001b[39mimport\u001b[39;00m \u001b[39mnumpy\u001b[39;00m \u001b[39mas\u001b[39;00m \u001b[39mnp\u001b[39;00m\n\u001b[0;32m      <a href='vscode-notebook-cell:/d%3A/Documentos/Lucas/USP/4%C2%BA%20Semestre/Termo%20Estat%C3%ADstica/Python/cod_livrecaminhomedio_lucasmduarte_12607091.ipynb#W0sZmlsZQ%3D%3D?line=2'>3</a>\u001b[0m \u001b[39mimport\u001b[39;00m \u001b[39mmath\u001b[39;00m\n\u001b[0;32m      <a href='vscode-notebook-cell:/d%3A/Documentos/Lucas/USP/4%C2%BA%20Semestre/Termo%20Estat%C3%ADstica/Python/cod_livrecaminhomedio_lucasmduarte_12607091.ipynb#W0sZmlsZQ%3D%3D?line=4'>5</a>\u001b[0m N \u001b[39m=\u001b[39m \u001b[39mfloat\u001b[39m(\u001b[39minput\u001b[39m(\u001b[39m'\u001b[39m\u001b[39mDigite o valor do número de moléculas: \u001b[39m\u001b[39m'\u001b[39m))\n",
      "\u001b[1;31mModuleNotFoundError\u001b[0m: No module named 'numpy'"
     ]
    }
   ],
   "source": [
    "import numpy as np\n",
    "\n",
    "import math\n",
    "\n",
    "N = float(input('Digite o valor do número de moléculas: '))\n",
    "\n",
    "V = float(input('Digite o valor da unidade de volume: '))\n",
    "\n",
    "n = N / V\n",
    "\n",
    "d = float(input('Digite o valor do diâmetro da molécula: '))\n",
    "\n",
    "r2 = math.sqrt(2)\n",
    "\n",
    "pi = math.pi\n",
    "\n",
    "λ = 1/(r2*pi*d*d*n)\n",
    "\n",
    "print('O livre caminho médio é ', np.format_float_scientific(λ, precision = 1, exp_digits=2))\n"
   ]
  },
  {
   "cell_type": "code",
   "execution_count": null,
   "id": "727c358c",
   "metadata": {},
   "outputs": [],
   "source": []
  }
 ],
 "metadata": {
  "kernelspec": {
   "display_name": "Python 3 (ipykernel)",
   "language": "python",
   "name": "python3"
  },
  "language_info": {
   "codemirror_mode": {
    "name": "ipython",
    "version": 3
   },
   "file_extension": ".py",
   "mimetype": "text/x-python",
   "name": "python",
   "nbconvert_exporter": "python",
   "pygments_lexer": "ipython3",
   "version": "3.11.5"
  }
 },
 "nbformat": 4,
 "nbformat_minor": 5
}
